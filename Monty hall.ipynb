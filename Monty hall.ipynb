{
 "cells": [
  {
   "cell_type": "markdown",
   "metadata": {},
   "source": [
    "# Monty hall probelm\n",
    "Let A, B and C be the following hypotheses:\n",
    "A: The car is behind the first door.\n",
    "B: The car is behind the second door.\n",
    "C: The car is behind the third door.\n",
    "P(A) = P(B) = P(C) = 1/3.\n",
    "According to the rules of the game show, Monty will never open the door with a car behind it, nor will he open the door currently chosen by the contestant. That leaves two possible doors.Personperspective, it’s equally likely for Monty choose one over the other. Thus, our marginal likelyhood is P(E)= 1/2.\n",
    "\n",
    "Let’s follow the Monty Hall problem definition and say person initially chooses the first door, after which Monty opens door number three to reveal a goat. Since hypothesis C will never hold (Monty will never open a door he knows to have a car behind it), only hypotheses A and B are of interest.\n",
    "\n",
    "Let’s start with hypothesis A (the car is behind the first door). Our prior is the probability of the car being behind door A regardless of any other information we have. P(A) = 1/3.\n",
    "Finally, we can calculate\n",
    "P(A|E) = (P(E|A) * P(A)) / P(E) = (1/2 * 1/3) / (1/2) = 1/3."
   ]
  },
  {
   "cell_type": "markdown",
   "metadata": {},
   "source": [
    "The probability of the car being behind the first door is 1/3. That means person has a one in third chance of winning if he sticks by his original choice.Now say that the car is behind the second door, Monty has no choice but to choose door three (remember, he will never open a door with a car behind it, nor will he open the door the contestant initially chose). \n",
    "Thus, P(E|B) is 1.\n",
    "Thus answer will be P(B|E) = (P(E|B) * P(B)) / P(E) = (1 * 1/3) / (1/2) = 2/3."
   ]
  },
  {
   "cell_type": "markdown",
   "metadata": {},
   "source": [
    "In terms, of baye's theorem we can say tha our belief in hypothesis B is stronger than our belief in A, since 2/3 is greater than 1/3.In other words,Person has a two thirds chance of winning a car if he changes his mind and chooses a different door. He doubles his chances of winning a car if he changes his mind."
   ]
  }
 ],
 "metadata": {
  "kernelspec": {
   "display_name": "Python 3",
   "language": "python",
   "name": "python3"
  },
  "language_info": {
   "codemirror_mode": {
    "name": "ipython",
    "version": 3
   },
   "file_extension": ".py",
   "mimetype": "text/x-python",
   "name": "python",
   "nbconvert_exporter": "python",
   "pygments_lexer": "ipython3",
   "version": "3.6.5"
  }
 },
 "nbformat": 4,
 "nbformat_minor": 2
}
